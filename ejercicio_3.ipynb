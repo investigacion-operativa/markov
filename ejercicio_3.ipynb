{
 "cells": [
  {
   "attachments": {},
   "cell_type": "markdown",
   "metadata": {},
   "source": [
    "# Ejercicio 3\n",
    "## Enunciado\n",
    "Un agente comercial realiza su trabajo en tres ciudades A, B y C. Para evitar desplazamientos innecesarios está todo el día en la misma ciudad y allí pernocta, desplazándose a otra ciudad al día siguiente, si no tiene suficiente trabajo. Después de estar trabajando un día en C, la probabilidad de tener que seguir trabajando en ella al día siguiente es 0,4, la de tener que viajar a B es 0,4 y la de tener que ir a A es 0,2. Si el viajante duerme un día en B, con probabilidad de un 20% tendrá que seguir trabajando en la misma ciudad al día siguiente, en el 60% de los casos viajará a C, mientras que irá a A con probabilidad 0,2. Por último si el agente comercial trabaja todo un día en A, permanecerá en esa misma ciudad, al día siguiente, con una probabilidad 0,1, irá a B con una probabilidad de 0,3 y a C con una probabilidad de 0,6.\n",
    "\n",
    "* Ejercicio A: Si hoy el viajante está en C, ¿cuál es la probabilidad de que también tenga que trabajar en C al cabo de cuatro días?\n",
    "* Ejercicio B: ¿Cuáles son los porcentajes de días en los que el agente comercial está en cada una de las tres ciudades?"
   ]
  },
  {
   "cell_type": "code",
   "execution_count": 162,
   "metadata": {},
   "outputs": [],
   "source": [
    "# Importamos las librerías que vamos a usar:\n",
    "import numpy as np"
   ]
  },
  {
   "cell_type": "markdown",
   "metadata": {},
   "source": [
    "Ingresamos los datos de la matriz de transición en una matriz numpy:"
   ]
  },
  {
   "cell_type": "code",
   "execution_count": 163,
   "metadata": {},
   "outputs": [
    {
     "name": "stdout",
     "output_type": "stream",
     "text": [
      "[[0.1 0.3 0.6]\n",
      " [0.2 0.2 0.6]\n",
      " [0.2 0.4 0.4]]\n"
     ]
    }
   ],
   "source": [
    "T = np.array([[0.1, 0.3, 0.6],\n",
    "              [0.2, 0.2, 0.6],\n",
    "              [0.2, 0.4, 0.4]])\n",
    "print(T)"
   ]
  },
  {
   "cell_type": "markdown",
   "metadata": {},
   "source": [
    "## Ejercicio A\n",
    "* Calculamos la matriz de transición habiendo pasado 4 días. Elevamos la matriz a la cuarta usando el método de la potencia de álgebra lineal de la librería numpy.\n",
    "\n",
    "* Sabiendo que $p_0$ considera que el agente está en el nodo C:\n",
    "$ p_0 = (0, 0, 1) $\n",
    "\n",
    "* Calculamos:\n",
    "$ p_0 T^4 = p_4 $\n",
    "\n",
    "* Dado el vector $ p_4 $, nos quedamos con el componente perteneciente al estado C."
   ]
  },
  {
   "cell_type": "code",
   "execution_count": 164,
   "metadata": {
    "scrolled": true
   },
   "outputs": [
    {
     "name": "stdout",
     "output_type": "stream",
     "text": [
      "** Matriz de transición a tiempo 4: \n",
      " [[0.1819 0.3189 0.4992]\n",
      " [0.1818 0.319  0.4992]\n",
      " [0.1818 0.3174 0.5008]]\n",
      "\n",
      " ** Vector de estado a tiempo 0: \n",
      " [0 0 1]\n",
      "\n",
      " ** Vector de estado a tiempo 4: \n",
      " [0.1818 0.3174 0.5008]\n",
      "\n",
      " ** Probabilidad de estar en c habiendo iniciado en c: \n",
      " 0.50080\n"
     ]
    }
   ],
   "source": [
    "# Ejercicio A\n",
    "\n",
    "# Cálculo de la matriz de transición a tiempo 4:\n",
    "T4 = np.linalg.matrix_power(T, 4)\n",
    "print('** Matriz de transición a tiempo 4: \\n %s' % T4)\n",
    "\n",
    "# Generación del vector inicial p_0:\n",
    "p_0 = np.array([0, 0, 1])\n",
    "print('\\n ** Vector de estado a tiempo 0: \\n %s' % p_0)\n",
    "\n",
    "# Cálculo del estado a tiempo 4, p_4:\n",
    "p_4 = np.dot(p0, T4)\n",
    "print('\\n ** Vector de estado a tiempo 4: \\n %s' % p_4)\n",
    "\n",
    "# Componente del nodo C:\n",
    "p_4_c = p_4[2]\n",
    "print('\\n ** Probabilidad de estar en c habiendo iniciado en c: \\n %.5f' % p_4_c)"
   ]
  },
  {
   "cell_type": "markdown",
   "metadata": {},
   "source": [
    "### Forma alternativa de resolución:\n",
    "El resultado es el mismo si consideramos que la componente ${T^4}_{cc}$ es la probabilidad de transición del nodo c al mismo nodo habiendo pasado 4 ciclos.\n",
    "Veamos cómo se obtiene esa componente:"
   ]
  },
  {
   "cell_type": "code",
   "execution_count": 165,
   "metadata": {},
   "outputs": [
    {
     "name": "stdout",
     "output_type": "stream",
     "text": [
      "\n",
      " ** Probabilidad de estar en c habiendo iniciado en c: \n",
      " 0.50080\n"
     ]
    }
   ],
   "source": [
    "# Componente de cc de la matriz de transición a tiempo 4:\n",
    "T4cc = T4[2,2]\n",
    "print('\\n ** Probabilidad de estar en c habiendo iniciado en c: \\n %.5f' % T4cc)"
   ]
  },
  {
   "cell_type": "markdown",
   "metadata": {},
   "source": [
    "## Ejercicio B\n",
    "Dada una matriz $A$ proveniente del sistema de ecuaciones que resuelve $\\pi T = \\pi$\n",
    "\n",
    "Y dado un vector $B$ relacionado con los términos independientes del sistema de ecuaciones anteriormente mencionado.\n",
    "\n",
    "Estos vectores fueron calculados a mano anteriormente, procedemos a cargarlos:"
   ]
  },
  {
   "cell_type": "code",
   "execution_count": 166,
   "metadata": {
    "scrolled": true
   },
   "outputs": [
    {
     "name": "stdout",
     "output_type": "stream",
     "text": [
      "\n",
      " ** Matriz asociada al sistema lineal de ecuaciones: \n",
      " [[-0.9  0.2  0.2]\n",
      " [ 0.3 -0.8  0.4]\n",
      " [ 0.6  0.6 -0.6]\n",
      " [ 1.   1.   1. ]]\n",
      "\n",
      " ** Vector de términos independientes: \n",
      " [0 0 0 1]\n"
     ]
    }
   ],
   "source": [
    "# Matriz A:\n",
    "A = np.array([[-0.9,  0.2,  0.2],\n",
    "              [ 0.3, -0.8,  0.4],\n",
    "              [ 0.6,  0.6, -0.6],\n",
    "              [1, 1, 1]])\n",
    "\n",
    "print('\\n ** Matriz asociada al sistema lineal de ecuaciones: \\n %s' % A)\n",
    "\n",
    "# Vector B:\n",
    "B = np.array([0, 0, 0, 1])\n",
    "print('\\n ** Vector de términos independientes: \\n %s' % B)"
   ]
  },
  {
   "cell_type": "markdown",
   "metadata": {},
   "source": [
    "Dado que el solver de numpy solamente admite sistemas lineales cuadrados por el algoritmo que usa para la resolución [1], debemos eliminar una de las filas (cualquiera) de la matriz homogénea y quedarnos con la fila relacionada a la ecuación $ \\sum_i{\\pi_i} = 1$.\n",
    "Hacemos lo mismo para el vector de términos independientes.\n",
    "\n",
    "Para hacer esto usamos la función el método delete de numpy, indicando la posición a eliminar y el eje (axis) al que pertenece.\n",
    "\n",
    "\n",
    "[1] https://docs.scipy.org/doc/numpy-1.15.0/reference/generated/numpy.linalg.solve.html"
   ]
  },
  {
   "cell_type": "code",
   "execution_count": 167,
   "metadata": {},
   "outputs": [
    {
     "name": "stdout",
     "output_type": "stream",
     "text": [
      "\n",
      " ** Matriz asociada al sistema lineal de ecuaciones: \n",
      " [[ 0.3 -0.8  0.4]\n",
      " [ 0.6  0.6 -0.6]\n",
      " [ 1.   1.   1. ]]\n",
      "\n",
      " -> Dimensión: (3, 3)\n",
      "\n",
      " ** Vector de términos independientes: \n",
      " [0 0 1]\n",
      "\n",
      " -> Dimensión: (3,)\n"
     ]
    }
   ],
   "source": [
    "# Eliminamos la primer fila de la matriz A:\n",
    "A = np.delete(A, 0, 0)\n",
    "A_dim = A.shape\n",
    "print('\\n ** Matriz asociada al sistema lineal de ecuaciones: \\n %s' % A)\n",
    "print('\\n -> Dimensión: %s' % str(A_dim))\n",
    "\n",
    "# Eliminamos la primera componente del vector B:\n",
    "B = np.delete(B, 0, 0)\n",
    "B_dim = B.shape\n",
    "print('\\n ** Vector de términos independientes: \\n %s' % B)\n",
    "print('\\n -> Dimensión: %s' % str(B_dim))"
   ]
  },
  {
   "cell_type": "markdown",
   "metadata": {},
   "source": [
    "Cumpliendo con un sistema cuadrado, usamos el método solve de numpy para obtener $x$ del sistema $Ax = B$"
   ]
  },
  {
   "cell_type": "code",
   "execution_count": 168,
   "metadata": {},
   "outputs": [
    {
     "name": "stdout",
     "output_type": "stream",
     "text": [
      "\n",
      " ** Vector solución de estado estable: \n",
      " [0.18181818 0.31818182 0.5       ]\n"
     ]
    }
   ],
   "source": [
    "x = np.linalg.solve(A, B)\n",
    "print('\\n ** Vector solución de estado estable: \\n %s' % x)"
   ]
  },
  {
   "cell_type": "markdown",
   "metadata": {},
   "source": [
    "### Forma alternativa: usando una matriz no cuadrada\n",
    "Como explicamos anteriormente no podemos usar el método $solve$ en matrices no cuadradas. En su lugar podemos usar el método de los mínimos cuadrados para aproximar la solución[2]. Este método no tiene restricciones en cuanto a la dimensión de la matriz.\n",
    "\n",
    "El desarrollo del método no forma parte de la materia, siendo contenido de Análisis Numérico y Cálculo Avanzado.\n",
    "\n",
    "[2] https://docs.scipy.org/doc/numpy/reference/generated/numpy.linalg.lstsq.html"
   ]
  },
  {
   "cell_type": "code",
   "execution_count": 169,
   "metadata": {
    "scrolled": true
   },
   "outputs": [
    {
     "name": "stdout",
     "output_type": "stream",
     "text": [
      "\n",
      " ** Vector solución de estado estable: \n",
      " [0.18181818 0.31818182 0.5       ]\n"
     ]
    }
   ],
   "source": [
    "x_lstsq, _, _, _ = np.linalg.lstsq(A, B, rcond=None)\n",
    "print('\\n ** Vector solución de estado estable: \\n %s' % x_lstsq)"
   ]
  },
  {
   "cell_type": "markdown",
   "metadata": {},
   "source": [
    "### Cálculo auxiliar: partiendo directamente de la matriz de transición\n",
    "En la resolución original, usamos una matriz A relacionada al sistema lineal de ecuaciones que resolvimos a mano. Ahora veremos otra forma de llegar a la solución solamente con los datos dados y tratamiento de matrices.\n",
    "\n",
    "Partiendo del sistema original: $\\pi T = \\pi$\n",
    "\n",
    "Despejando $\\pi$ obtenemos:\n",
    "\n",
    "$(T^T - I) \\pi^T = 0 $\n",
    "\n",
    "Podemos transformar lo anterior en la notación que usamos más arriba para que tenga consistencia:\n",
    "\n",
    "$A = (T^T - I)$\n",
    "\n",
    "$X = \\pi^T$\n",
    "\n",
    "$B = 0$\n",
    "\n",
    "Por lo tanto, llegamos a la misma expresión $Ax = B$"
   ]
  },
  {
   "cell_type": "code",
   "execution_count": 170,
   "metadata": {},
   "outputs": [
    {
     "name": "stdout",
     "output_type": "stream",
     "text": [
      "\n",
      " ** T traspuesta: \n",
      " [[0.1 0.2 0.2]\n",
      " [0.3 0.2 0.4]\n",
      " [0.6 0.6 0.4]]\n",
      "\n",
      " ** Matriz A: \n",
      " [[-0.9  0.2  0.2]\n",
      " [ 0.3 -0.8  0.4]\n",
      " [ 0.6  0.6 -0.6]]\n",
      "\n",
      " ** Vector B: \n",
      " [0. 0. 0.]\n"
     ]
    }
   ],
   "source": [
    "# Primero calculamos la traspuesta:\n",
    "Tt = np.transpose(T)\n",
    "print('\\n ** T traspuesta: \\n %s' % Tt)\n",
    "\n",
    "# Luego con calculamos la matriz A, sabiendo que es la traspuesta de T menos la identidad.\n",
    "A = Tt - np.identity(Tt.shape[0])\n",
    "print('\\n ** Matriz A: \\n %s' % A)\n",
    "\n",
    "# El vector B, es un vector de ceros:\n",
    "B = np.zeros(3)\n",
    "print('\\n ** Vector B: \\n %s' % B)"
   ]
  },
  {
   "cell_type": "markdown",
   "metadata": {},
   "source": [
    "Teniendo lo anterior agregamos la condición de sumatoria de probabilidades igual a 1 y resolvemos con mínimos cuadrados:"
   ]
  },
  {
   "cell_type": "code",
   "execution_count": 171,
   "metadata": {},
   "outputs": [
    {
     "name": "stdout",
     "output_type": "stream",
     "text": [
      "\n",
      " ** Matriz A: \n",
      " [[-0.9  0.2  0.2]\n",
      " [ 0.3 -0.8  0.4]\n",
      " [ 0.6  0.6 -0.6]\n",
      " [ 1.   1.   1. ]]\n",
      "\n",
      " ** Vector B: \n",
      " [0. 0. 0. 1.]\n",
      "\n",
      " ** Vector solución de estado estable: \n",
      " [0.18181818 0.31818182 0.5       ]\n"
     ]
    }
   ],
   "source": [
    "# Primero calculamos la traspuesta:\n",
    "eq_suma_p = np.array([[1, 1, 1]])\n",
    "A = np.concatenate((A, eq_suma_p), axis=0)\n",
    "print('\\n ** Matriz A: \\n %s' % A)\n",
    "\n",
    "# El vector B, es un vector de ceros:\n",
    "B = np.append(B, 1)\n",
    "print('\\n ** Vector B: \\n %s' % B)\n",
    "\n",
    "# Resolvemos con método de mínimos cuadrados:\n",
    "x_lstsq, _, _, _ = np.linalg.lstsq(A, B, rcond=None)\n",
    "print('\\n ** Vector solución de estado estable: \\n %s' % x_lstsq)"
   ]
  }
 ],
 "metadata": {
  "kernelspec": {
   "display_name": "Python 3",
   "language": "python",
   "name": "python3"
  },
  "language_info": {
   "codemirror_mode": {
    "name": "ipython",
    "version": 3
   },
   "file_extension": ".py",
   "mimetype": "text/x-python",
   "name": "python",
   "nbconvert_exporter": "python",
   "pygments_lexer": "ipython3",
   "version": "3.6.1"
  }
 },
 "nbformat": 4,
 "nbformat_minor": 2
}
